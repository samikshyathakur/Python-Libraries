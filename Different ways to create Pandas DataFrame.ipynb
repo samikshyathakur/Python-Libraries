{
 "cells": [
  {
   "cell_type": "markdown",
   "id": "198feed8",
   "metadata": {},
   "source": [
    "### Method 1: Creating Pandas DataFrame from lists of lists."
   ]
  },
  {
   "cell_type": "code",
   "execution_count": 1,
   "id": "b5064e45",
   "metadata": {},
   "outputs": [
    {
     "data": {
      "text/html": [
       "<div>\n",
       "<style scoped>\n",
       "    .dataframe tbody tr th:only-of-type {\n",
       "        vertical-align: middle;\n",
       "    }\n",
       "\n",
       "    .dataframe tbody tr th {\n",
       "        vertical-align: top;\n",
       "    }\n",
       "\n",
       "    .dataframe thead th {\n",
       "        text-align: right;\n",
       "    }\n",
       "</style>\n",
       "<table border=\"1\" class=\"dataframe\">\n",
       "  <thead>\n",
       "    <tr style=\"text-align: right;\">\n",
       "      <th></th>\n",
       "      <th>Name</th>\n",
       "      <th>Age</th>\n",
       "    </tr>\n",
       "  </thead>\n",
       "  <tbody>\n",
       "    <tr>\n",
       "      <th>0</th>\n",
       "      <td>Tom</td>\n",
       "      <td>10</td>\n",
       "    </tr>\n",
       "    <tr>\n",
       "      <th>1</th>\n",
       "      <td>Nick</td>\n",
       "      <td>15</td>\n",
       "    </tr>\n",
       "    <tr>\n",
       "      <th>2</th>\n",
       "      <td>Juli</td>\n",
       "      <td>14</td>\n",
       "    </tr>\n",
       "  </tbody>\n",
       "</table>\n",
       "</div>"
      ],
      "text/plain": [
       "   Name  Age\n",
       "0   Tom   10\n",
       "1  Nick   15\n",
       "2  Juli   14"
      ]
     },
     "execution_count": 1,
     "metadata": {},
     "output_type": "execute_result"
    }
   ],
   "source": [
    "#importing pandas library\n",
    "import pandas as pd\n",
    "\n",
    "#initializing list of lists\n",
    "data = [['Tom', 10], ['Nick', 15], ['Juli', 14]]\n",
    "\n",
    "#Creating the Pandas DataFrame\n",
    "df = pd.DataFrame(data, columns = ['Name', 'Age'])\n",
    "\n",
    "#Printing dataframe\n",
    "df"
   ]
  },
  {
   "cell_type": "markdown",
   "id": "42e48c5f",
   "metadata": {},
   "source": [
    "### Method 2: Creating DataFrame from dict of lists"
   ]
  },
  {
   "cell_type": "code",
   "execution_count": 2,
   "id": "7efc84e0",
   "metadata": {},
   "outputs": [
    {
     "data": {
      "text/html": [
       "<div>\n",
       "<style scoped>\n",
       "    .dataframe tbody tr th:only-of-type {\n",
       "        vertical-align: middle;\n",
       "    }\n",
       "\n",
       "    .dataframe tbody tr th {\n",
       "        vertical-align: top;\n",
       "    }\n",
       "\n",
       "    .dataframe thead th {\n",
       "        text-align: right;\n",
       "    }\n",
       "</style>\n",
       "<table border=\"1\" class=\"dataframe\">\n",
       "  <thead>\n",
       "    <tr style=\"text-align: right;\">\n",
       "      <th></th>\n",
       "      <th>Name</th>\n",
       "      <th>Age</th>\n",
       "    </tr>\n",
       "  </thead>\n",
       "  <tbody>\n",
       "    <tr>\n",
       "      <th>0</th>\n",
       "      <td>Tom</td>\n",
       "      <td>20</td>\n",
       "    </tr>\n",
       "    <tr>\n",
       "      <th>1</th>\n",
       "      <td>Nick</td>\n",
       "      <td>21</td>\n",
       "    </tr>\n",
       "    <tr>\n",
       "      <th>2</th>\n",
       "      <td>Krish</td>\n",
       "      <td>19</td>\n",
       "    </tr>\n",
       "    <tr>\n",
       "      <th>3</th>\n",
       "      <td>Jack</td>\n",
       "      <td>18</td>\n",
       "    </tr>\n",
       "    <tr>\n",
       "      <th>4</th>\n",
       "      <td>Alex</td>\n",
       "      <td>25</td>\n",
       "    </tr>\n",
       "  </tbody>\n",
       "</table>\n",
       "</div>"
      ],
      "text/plain": [
       "    Name  Age\n",
       "0    Tom   20\n",
       "1   Nick   21\n",
       "2  Krish   19\n",
       "3   Jack   18\n",
       "4   Alex   25"
      ]
     },
     "execution_count": 2,
     "metadata": {},
     "output_type": "execute_result"
    }
   ],
   "source": [
    "#import pandas library\n",
    "import pandas as pd\n",
    "\n",
    "#initialize data of lists.\n",
    "data = {'Name':['Tom', 'Nick', 'Krish', 'Jack', 'Alex'],\n",
    "        'Age':[20, 21, 19, 18, 25]}\n",
    "\n",
    "#create DataFrame\n",
    "df = pd.DataFrame(data)\n",
    " \n",
    "#print the output.\n",
    "df"
   ]
  },
  {
   "cell_type": "markdown",
   "id": "d0ba3d50",
   "metadata": {},
   "source": [
    "### Method 3: Creating a indexes DataFrame using arrays"
   ]
  },
  {
   "cell_type": "code",
   "execution_count": 3,
   "id": "9053e5e8",
   "metadata": {},
   "outputs": [
    {
     "data": {
      "text/html": [
       "<div>\n",
       "<style scoped>\n",
       "    .dataframe tbody tr th:only-of-type {\n",
       "        vertical-align: middle;\n",
       "    }\n",
       "\n",
       "    .dataframe tbody tr th {\n",
       "        vertical-align: top;\n",
       "    }\n",
       "\n",
       "    .dataframe thead th {\n",
       "        text-align: right;\n",
       "    }\n",
       "</style>\n",
       "<table border=\"1\" class=\"dataframe\">\n",
       "  <thead>\n",
       "    <tr style=\"text-align: right;\">\n",
       "      <th></th>\n",
       "      <th>Name</th>\n",
       "      <th>marks</th>\n",
       "    </tr>\n",
       "  </thead>\n",
       "  <tbody>\n",
       "    <tr>\n",
       "      <th>rank1</th>\n",
       "      <td>Tom</td>\n",
       "      <td>99</td>\n",
       "    </tr>\n",
       "    <tr>\n",
       "      <th>rank2</th>\n",
       "      <td>Jack</td>\n",
       "      <td>98</td>\n",
       "    </tr>\n",
       "    <tr>\n",
       "      <th>rank3</th>\n",
       "      <td>nick</td>\n",
       "      <td>95</td>\n",
       "    </tr>\n",
       "    <tr>\n",
       "      <th>rank4</th>\n",
       "      <td>juli</td>\n",
       "      <td>90</td>\n",
       "    </tr>\n",
       "  </tbody>\n",
       "</table>\n",
       "</div>"
      ],
      "text/plain": [
       "       Name  marks\n",
       "rank1   Tom     99\n",
       "rank2  Jack     98\n",
       "rank3  nick     95\n",
       "rank4  juli     90"
      ]
     },
     "execution_count": 3,
     "metadata": {},
     "output_type": "execute_result"
    }
   ],
   "source": [
    "#import pandas library\n",
    "import pandas as pd\n",
    " \n",
    "#initialize data of lists.\n",
    "data = {'Name':['Tom', 'Jack', 'nick', 'juli'],\n",
    "        'marks':[99, 98, 95, 90]}\n",
    " \n",
    "#creates pandas DataFrame.\n",
    "df = pd.DataFrame(data, index =['rank1',\n",
    "                                'rank2',\n",
    "                                'rank3',\n",
    "                                'rank4'])\n",
    " \n",
    "#print the data\n",
    "df"
   ]
  },
  {
   "cell_type": "markdown",
   "id": "bc0eb48c",
   "metadata": {},
   "source": [
    "### Method 4: Creating Dataframe from list of dicts"
   ]
  },
  {
   "cell_type": "code",
   "execution_count": 4,
   "id": "e84e5ac9",
   "metadata": {},
   "outputs": [
    {
     "data": {
      "text/html": [
       "<div>\n",
       "<style scoped>\n",
       "    .dataframe tbody tr th:only-of-type {\n",
       "        vertical-align: middle;\n",
       "    }\n",
       "\n",
       "    .dataframe tbody tr th {\n",
       "        vertical-align: top;\n",
       "    }\n",
       "\n",
       "    .dataframe thead th {\n",
       "        text-align: right;\n",
       "    }\n",
       "</style>\n",
       "<table border=\"1\" class=\"dataframe\">\n",
       "  <thead>\n",
       "    <tr style=\"text-align: right;\">\n",
       "      <th></th>\n",
       "      <th>a</th>\n",
       "      <th>b</th>\n",
       "      <th>c</th>\n",
       "    </tr>\n",
       "  </thead>\n",
       "  <tbody>\n",
       "    <tr>\n",
       "      <th>0</th>\n",
       "      <td>1</td>\n",
       "      <td>2</td>\n",
       "      <td>3</td>\n",
       "    </tr>\n",
       "    <tr>\n",
       "      <th>1</th>\n",
       "      <td>10</td>\n",
       "      <td>20</td>\n",
       "      <td>30</td>\n",
       "    </tr>\n",
       "  </tbody>\n",
       "</table>\n",
       "</div>"
      ],
      "text/plain": [
       "    a   b   c\n",
       "0   1   2   3\n",
       "1  10  20  30"
      ]
     },
     "execution_count": 4,
     "metadata": {},
     "output_type": "execute_result"
    }
   ],
   "source": [
    "import pandas as pd\n",
    " \n",
    "#Initialize data to lists.\n",
    "data = [{'a': 1, 'b': 2, 'c':3},\n",
    "        {'a':10, 'b': 20, 'c': 30}]\n",
    " \n",
    "#Create DataFrame.\n",
    "df = pd.DataFrame(data)\n",
    " \n",
    "#Print the data\n",
    "df"
   ]
  },
  {
   "cell_type": "code",
   "execution_count": 5,
   "id": "97ba7729",
   "metadata": {},
   "outputs": [
    {
     "data": {
      "text/html": [
       "<div>\n",
       "<style scoped>\n",
       "    .dataframe tbody tr th:only-of-type {\n",
       "        vertical-align: middle;\n",
       "    }\n",
       "\n",
       "    .dataframe tbody tr th {\n",
       "        vertical-align: top;\n",
       "    }\n",
       "\n",
       "    .dataframe thead th {\n",
       "        text-align: right;\n",
       "    }\n",
       "</style>\n",
       "<table border=\"1\" class=\"dataframe\">\n",
       "  <thead>\n",
       "    <tr style=\"text-align: right;\">\n",
       "      <th></th>\n",
       "      <th>b</th>\n",
       "      <th>c</th>\n",
       "      <th>a</th>\n",
       "    </tr>\n",
       "  </thead>\n",
       "  <tbody>\n",
       "    <tr>\n",
       "      <th>first</th>\n",
       "      <td>2</td>\n",
       "      <td>3</td>\n",
       "      <td>NaN</td>\n",
       "    </tr>\n",
       "    <tr>\n",
       "      <th>second</th>\n",
       "      <td>20</td>\n",
       "      <td>30</td>\n",
       "      <td>10.0</td>\n",
       "    </tr>\n",
       "  </tbody>\n",
       "</table>\n",
       "</div>"
      ],
      "text/plain": [
       "         b   c     a\n",
       "first    2   3   NaN\n",
       "second  20  30  10.0"
      ]
     },
     "execution_count": 5,
     "metadata": {},
     "output_type": "execute_result"
    }
   ],
   "source": [
    "#Another example to create pandas DataFrame by passing lists of dictionaries and row indexes.\n",
    "\n",
    "import pandas as pd\n",
    "\n",
    "#Initialize data of lists\n",
    "data = [{'b': 2, 'c':3}, {'a': 10, 'b': 20, 'c': 30}]\n",
    " \n",
    "#Creates pandas DataFrame by passing lists of dictionaries and row index.\n",
    "df = pd.DataFrame(data, index =['first', 'second'])\n",
    " \n",
    "#Print the data\n",
    "df"
   ]
  },
  {
   "cell_type": "code",
   "execution_count": 6,
   "id": "da76398a",
   "metadata": {},
   "outputs": [
    {
     "name": "stdout",
     "output_type": "stream",
     "text": [
      "        a   b\n",
      "first   1   2\n",
      "second  5  10 \n",
      "\n",
      "        a  b1\n",
      "first   1 NaN\n",
      "second  5 NaN\n"
     ]
    }
   ],
   "source": [
    "#Another example to create pandas DataFrame from lists of dictionaries with both row index as well as column index.\n",
    "\n",
    "import pandas as pd\n",
    "\n",
    "#Initialize lists data.\n",
    "data = [{'a': 1, 'b': 2},\n",
    "        {'a': 5, 'b': 10, 'c': 20}]\n",
    "  \n",
    "#With two column indices, values same as dictionary keys\n",
    "df1 = pd.DataFrame(data, index =['first',\n",
    "                                 'second'],\n",
    "                   columns =['a', 'b'])\n",
    "  \n",
    "#With two column indices with one index with other name\n",
    "df2 = pd.DataFrame(data, index =['first',\n",
    "                                 'second'],\n",
    "                   columns =['a', 'b1'])\n",
    "\n",
    "#print the first data frame\n",
    "print(df1, \"\\n\")\n",
    "  \n",
    "#print the second DataFrame.\n",
    "print(df2)"
   ]
  },
  {
   "cell_type": "markdown",
   "id": "d5060447",
   "metadata": {},
   "source": [
    "### Method 5: Creating DataFrame using zip() function"
   ]
  },
  {
   "cell_type": "code",
   "execution_count": 7,
   "id": "3c91b520",
   "metadata": {},
   "outputs": [
    {
     "data": {
      "text/html": [
       "<div>\n",
       "<style scoped>\n",
       "    .dataframe tbody tr th:only-of-type {\n",
       "        vertical-align: middle;\n",
       "    }\n",
       "\n",
       "    .dataframe tbody tr th {\n",
       "        vertical-align: top;\n",
       "    }\n",
       "\n",
       "    .dataframe thead th {\n",
       "        text-align: right;\n",
       "    }\n",
       "</style>\n",
       "<table border=\"1\" class=\"dataframe\">\n",
       "  <thead>\n",
       "    <tr style=\"text-align: right;\">\n",
       "      <th></th>\n",
       "      <th>Name</th>\n",
       "      <th>Age</th>\n",
       "    </tr>\n",
       "  </thead>\n",
       "  <tbody>\n",
       "    <tr>\n",
       "      <th>0</th>\n",
       "      <td>Ally</td>\n",
       "      <td>25</td>\n",
       "    </tr>\n",
       "    <tr>\n",
       "      <th>1</th>\n",
       "      <td>Christina</td>\n",
       "      <td>30</td>\n",
       "    </tr>\n",
       "    <tr>\n",
       "      <th>2</th>\n",
       "      <td>Tom</td>\n",
       "      <td>26</td>\n",
       "    </tr>\n",
       "    <tr>\n",
       "      <th>3</th>\n",
       "      <td>Alf</td>\n",
       "      <td>22</td>\n",
       "    </tr>\n",
       "  </tbody>\n",
       "</table>\n",
       "</div>"
      ],
      "text/plain": [
       "        Name  Age\n",
       "0       Ally   25\n",
       "1  Christina   30\n",
       "2        Tom   26\n",
       "3        Alf   22"
      ]
     },
     "execution_count": 7,
     "metadata": {},
     "output_type": "execute_result"
    }
   ],
   "source": [
    "import pandas as pd\n",
    "   \n",
    "# List1\n",
    "Name = ['Ally', 'Christina', 'Tom', 'Alf']\n",
    "   \n",
    "# List2\n",
    "Age = [25, 30, 26, 22]\n",
    "   \n",
    "#get the list of tuples from two lists and merge them by using zip().\n",
    "list_of_tuples = list(zip(Name, Age))\n",
    "   \n",
    "#Assign data to tuples.\n",
    "list_of_tuples \n",
    "\n",
    "#Converting lists of tuples into pandas Dataframe.\n",
    "df = pd.DataFrame(list_of_tuples,\n",
    "                  columns = ['Name', 'Age'])\n",
    "    \n",
    "#Print dataframe.\n",
    "df"
   ]
  },
  {
   "cell_type": "markdown",
   "id": "6833c2c8",
   "metadata": {},
   "source": [
    "### Method 6: Creating DataFrame from Dicts of series"
   ]
  },
  {
   "cell_type": "code",
   "execution_count": null,
   "id": "f9109ba1",
   "metadata": {},
   "outputs": [],
   "source": []
  }
 ],
 "metadata": {
  "kernelspec": {
   "display_name": "Python 3",
   "language": "python",
   "name": "python3"
  },
  "language_info": {
   "codemirror_mode": {
    "name": "ipython",
    "version": 3
   },
   "file_extension": ".py",
   "mimetype": "text/x-python",
   "name": "python",
   "nbconvert_exporter": "python",
   "pygments_lexer": "ipython3",
   "version": "3.8.8"
  }
 },
 "nbformat": 4,
 "nbformat_minor": 5
}
